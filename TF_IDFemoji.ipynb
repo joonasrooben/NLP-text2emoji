{
  "nbformat": 4,
  "nbformat_minor": 0,
  "metadata": {
    "colab": {
      "name": " TF-IDFemoji",
      "provenance": [],
      "collapsed_sections": []
    },
    "kernelspec": {
      "name": "python3",
      "display_name": "Python 3"
    },
    "language_info": {
      "name": "python"
    }
  },
  "cells": [
    {
      "cell_type": "markdown",
      "metadata": {
        "id": "EWg_D5bItNg3"
      },
      "source": [
        "# TF-IDF emoji"
      ]
    },
    {
      "cell_type": "code",
      "metadata": {
        "colab": {
          "base_uri": "https://localhost:8080/"
        },
        "id": "sEKbNnABqu74",
        "outputId": "7af0e74d-f4b7-4070-c44e-f312c6b84f98"
      },
      "source": [
        "import pandas as pd\n",
        "import matplotlib.pyplot as plt\n",
        "import numpy as np\n",
        "\n",
        "from google.colab import drive\n",
        "drive.mount('/content/drive')"
      ],
      "execution_count": 1,
      "outputs": [
        {
          "output_type": "stream",
          "text": [
            "Mounted at /content/drive\n"
          ],
          "name": "stdout"
        }
      ]
    },
    {
      "cell_type": "code",
      "metadata": {
        "id": "lgxWLLYEYFeh"
      },
      "source": [
        "import csv\n",
        "from pathlib import Path\n",
        "from collections import namedtuple, Counter\n",
        "\n",
        "from gensim.models.doc2vec import Doc2Vec, TaggedDocument\n",
        "\n",
        "import spacy\n",
        "nlp = spacy.load('en_core_web_sm')"
      ],
      "execution_count": 2,
      "outputs": []
    },
    {
      "cell_type": "code",
      "metadata": {
        "id": "J4NOQyLrmyEw"
      },
      "source": [
        "import random"
      ],
      "execution_count": 3,
      "outputs": []
    },
    {
      "cell_type": "code",
      "metadata": {
        "id": "sNhaaoHZHteB",
        "colab": {
          "base_uri": "https://localhost:8080/"
        },
        "outputId": "e65c3c78-9e15-4512-e3b6-95bb98c4dd9e"
      },
      "source": [
        "meta = pd.read_csv(\"/content/drive/My Drive/NLP/Data/meta/metadata.txt\",sep=\"\\t\")\n",
        "meta\n",
        "folds = meta.loc[0:20,]\n",
        "folds \n",
        "MC_20 = ['❤','😂', '👍', '🙏', '🙌', '😘', '😍', '😊', '🔥', '👏', '👌', '💪', '👊', '😉', '🎉', '😎',\"😁\", \"💯\", \"😜\", \"👀\"]\n",
        "folds = pd.DataFrame([meta.loc[i,] for i in range(len(meta[\" emoji \"])) if meta.loc[i,][\" emoji \"] in MC_20 ])\n",
        "sum(folds[\" len \"])"
      ],
      "execution_count": 99,
      "outputs": [
        {
          "output_type": "execute_result",
          "data": {
            "text/plain": [
              "308616"
            ]
          },
          "metadata": {
            "tags": []
          },
          "execution_count": 99
        }
      ]
    },
    {
      "cell_type": "code",
      "metadata": {
        "id": "uh8hL0jiHuYJ",
        "colab": {
          "base_uri": "https://localhost:8080/"
        },
        "outputId": "0c1b8e92-8b9a-4687-c1db-94ef844ed012"
      },
      "source": [
        "labs = {}\n",
        "for i,fold in enumerate(folds[\" emoji \"]):\n",
        "  labs[fold]=i\n",
        "labs"
      ],
      "execution_count": 5,
      "outputs": [
        {
          "output_type": "execute_result",
          "data": {
            "text/plain": [
              "{'❤': 4,\n",
              " '🎉': 11,\n",
              " '👀': 16,\n",
              " '👊': 1,\n",
              " '👌': 13,\n",
              " '👍': 15,\n",
              " '👏': 6,\n",
              " '💪': 0,\n",
              " '💯': 12,\n",
              " '🔥': 7,\n",
              " '😁': 9,\n",
              " '😂': 19,\n",
              " '😉': 10,\n",
              " '😊': 17,\n",
              " '😍': 18,\n",
              " '😎': 8,\n",
              " '😘': 14,\n",
              " '😜': 5,\n",
              " '🙌': 2,\n",
              " '🙏': 3}"
            ]
          },
          "metadata": {
            "tags": []
          },
          "execution_count": 5
        }
      ]
    },
    {
      "cell_type": "markdown",
      "metadata": {
        "id": "6aOhW0Q6o_P_"
      },
      "source": [
        "##Twitter data"
      ]
    },
    {
      "cell_type": "code",
      "metadata": {
        "id": "J7ZfIhExIHk4"
      },
      "source": [
        "\n",
        "\n",
        "MC_20_train = namedtuple('MC_20_train',  ['text', 'lable'])\n",
        "MC_20_test = namedtuple('MC_20_test',  ['text', 'lable'])\n",
        "data_set_tr = []\n",
        "data_set_te = []\n",
        "for_embs_tr = []\n",
        "for_embs_te = []\n",
        "\n",
        "for i,fold in enumerate(folds[\"index \"]):\n",
        "    p = pd.read_csv(\"/content/drive/My Drive/NLP/Data\" +\"/\"+ str(fold)+\".csv\",keep_default_na = False)\n",
        "    for index,row in p.iterrows():\n",
        "      rr = np.random.rand(1)[0]\n",
        "      if rr < 0.66:\n",
        "        if rr < 0.066: \n",
        "          mc_20_test = MC_20_test(\n",
        "              row[\"Line\"], row['Emoji']\n",
        "          )\n",
        "          for_embs_te.append(row[\"Line\"])\n",
        "          data_set_te.append(mc_20_test)\n",
        "        else:\n",
        "          mc_20_train = MC_20_train(\n",
        "              row[\"Line\"], row['Emoji']\n",
        "          )\n",
        "          for_embs_tr.append(row[\"Line\"])\n",
        "          data_set_tr.append(mc_20_train)"
      ],
      "execution_count": 100,
      "outputs": []
    },
    {
      "cell_type": "markdown",
      "metadata": {
        "id": "5SgRG4NnpDn9"
      },
      "source": [
        "## MC20 data"
      ]
    },
    {
      "cell_type": "code",
      "metadata": {
        "id": "UamvHsuVVr-4"
      },
      "source": [
        "import re\n",
        "MC_20_train = namedtuple('MC_20_train',  ['text', 'lable'])\n",
        "MC_20_test = namedtuple('MC_20_test',  ['text', 'lable'])\n",
        "data_path = Path('/content/drive/MyDrive/NLP/NLP project/datasets/MC_20_dev.csv')\n",
        "\n",
        "data_set_tr = []\n",
        "data_set_te = []\n",
        "for_embs_tr = []\n",
        "for_embs_te = []\n",
        "\n",
        "with data_path.open(encoding='utf-8', newline='') as csvfile:\n",
        "    reader = csv.DictReader(csvfile)\n",
        "    for row in reader:\n",
        "      rr = np.random.rand(1)[0]\n",
        "      if rr < 0.5:\n",
        "        s = re.sub(r'http\\S+', '', row['text'])\n",
        "        s = re.sub(r'@\\S+', '', s)\n",
        "        s = re.sub(r'[^\\w\\s]','',s)\n",
        "        s = re.sub(r'\\w+_\\S+',\"\", s)\n",
        "        if rr < 0.05: \n",
        "          mc_20_test = MC_20_test(\n",
        "              s, row['lable']\n",
        "          )\n",
        "          for_embs_te.append(s)\n",
        "          data_set_te.append(mc_20_test)\n",
        "        else:\n",
        "          mc_20_train = MC_20_train(\n",
        "              s, row['lable']\n",
        "          )\n",
        "          for_embs_tr.append(s)\n",
        "          data_set_tr.append(mc_20_train)"
      ],
      "execution_count": 74,
      "outputs": []
    },
    {
      "cell_type": "code",
      "metadata": {
        "id": "GN2mhifBVdpF",
        "colab": {
          "base_uri": "https://localhost:8080/"
        },
        "outputId": "5271e77f-50bb-4dc8-d9fd-547ed46ffc1d"
      },
      "source": [
        "len(for_embs_te)"
      ],
      "execution_count": 101,
      "outputs": [
        {
          "output_type": "execute_result",
          "data": {
            "text/plain": [
              "20168"
            ]
          },
          "metadata": {
            "tags": []
          },
          "execution_count": 101
        }
      ]
    },
    {
      "cell_type": "code",
      "metadata": {
        "id": "6ztwYXySRd4G"
      },
      "source": [
        "# lets learn the tf-idf \n",
        "from sklearn.feature_extraction.text import TfidfVectorizer\n",
        "vectorizer = TfidfVectorizer()\n",
        "embeddings = vectorizer.fit_transform(for_embs_tr)"
      ],
      "execution_count": 81,
      "outputs": []
    },
    {
      "cell_type": "code",
      "metadata": {
        "id": "qwbbAwDKXlzO"
      },
      "source": [
        "#lets find the test instance representation with the learned df and vocabulary\n",
        "test_embs = vectorizer.transform(for_embs_te)"
      ],
      "execution_count": 82,
      "outputs": []
    },
    {
      "cell_type": "code",
      "metadata": {
        "id": "F7tRYdrPV19-",
        "colab": {
          "base_uri": "https://localhost:8080/"
        },
        "outputId": "bfeaf660-0203-4e16-baf9-d4a0fc73da9c"
      },
      "source": [
        "print(len(vectorizer.get_feature_names()))\n",
        "print(embeddings.shape)"
      ],
      "execution_count": 83,
      "outputs": [
        {
          "output_type": "stream",
          "text": [
            "29227\n",
            "(180039, 29227)\n"
          ],
          "name": "stdout"
        }
      ]
    },
    {
      "cell_type": "code",
      "metadata": {
        "id": "EKEoXckBqvyj"
      },
      "source": [
        "def cosine_similarity(query, pool, k=10):\n",
        "    return np.argsort(-pool.dot(query.T).toarray().squeeze(-1))[0:k]"
      ],
      "execution_count": 84,
      "outputs": []
    },
    {
      "cell_type": "code",
      "metadata": {
        "id": "yy45cZ2ooqfg",
        "colab": {
          "base_uri": "https://localhost:8080/"
        },
        "outputId": "2d02e6e9-e486-4098-96b0-6ffa7a4d7cb5"
      },
      "source": [
        "cosine_similarity(embeddings[0, :],embeddings)"
      ],
      "execution_count": 85,
      "outputs": [
        {
          "output_type": "execute_result",
          "data": {
            "text/plain": [
              "array([     0,   8986,  99130,  36043, 153075,  63113,  27068, 126188,\n",
              "       161935, 117098])"
            ]
          },
          "metadata": {
            "tags": []
          },
          "execution_count": 85
        }
      ]
    },
    {
      "cell_type": "code",
      "metadata": {
        "id": "Pvb2PpgXCOap",
        "colab": {
          "base_uri": "https://localhost:8080/",
          "height": 35
        },
        "outputId": "47abbcc7-f4ec-4a6e-e473-e5e383fb5df9"
      },
      "source": [
        "data_set_te[0].lable"
      ],
      "execution_count": 86,
      "outputs": [
        {
          "output_type": "execute_result",
          "data": {
            "application/vnd.google.colaboratory.intrinsic+json": {
              "type": "string"
            },
            "text/plain": [
              "'😜'"
            ]
          },
          "metadata": {
            "tags": []
          },
          "execution_count": 86
        }
      ]
    },
    {
      "cell_type": "code",
      "metadata": {
        "id": "1bSLTVEHQUip"
      },
      "source": [
        "from sklearn.metrics import precision_recall_fscore_support, accuracy_score\n",
        "\n",
        "def multi_label_accuracy(pred, gold):\n",
        "    y = []\n",
        "    for i in range(len(pred)):\n",
        "        y.append(gold[i].lable)\n",
        "    #print(y, pred)\n",
        "    #precision, recall, f_score, n = precision_recall_fscore_support(y, pred, labels = MC_20, average=None)\n",
        "    precision, recall, f_score, n = precision_recall_fscore_support(y, pred, average='macro')\n",
        "    accuracy = accuracy_score(y, pred)\n",
        "    return accuracy, precision, recall, f_score"
      ],
      "execution_count": 104,
      "outputs": []
    },
    {
      "cell_type": "code",
      "metadata": {
        "id": "d33ADZ_6StE6"
      },
      "source": [
        "def MRR(pred, i, labs):\n",
        "  n = len(labs)\n",
        "  preds = np.array([labs[data_set_tr[p].lable] for p in pred])\n",
        "  x = np.tile(labs[data_set_te[i].lable], (n))\n",
        "  rank = np.argmax(preds == x, axis=0)\n",
        "  if rank == 0 and preds[0] != labs[data_set_te[i].lable]:\n",
        "    return 0\n",
        "  return (1/(rank+1))\n"
      ],
      "execution_count": 102,
      "outputs": []
    },
    {
      "cell_type": "code",
      "metadata": {
        "id": "Py7wh393dFC2"
      },
      "source": [
        "def accuracy(pred, gold):\n",
        "    assert len(pred) == len(gold)\n",
        "    correct = 0\n",
        "    total = 0\n",
        "    for i in range(len(pred)):\n",
        "        total += 1\n",
        "        pp = pred[i]\n",
        "        gg = data_set_te[i].lable\n",
        "        if pp == gg:\n",
        "            correct += 1\n",
        "    return correct / total"
      ],
      "execution_count": 103,
      "outputs": []
    },
    {
      "cell_type": "code",
      "metadata": {
        "id": "EQqaArK1dEGV"
      },
      "source": [
        "tfidf_pred = []\n",
        "mrr = 0\n",
        "for i, test_entry in enumerate(test_embs):\n",
        "    sim = cosine_similarity(test_entry, embeddings, k=len(labs))\n",
        "    mrr += MRR(sim, i, labs)\n",
        "    most_similar = sim[0]\n",
        "    tfidf_pred.append(data_set_tr[most_similar].lable)\n",
        "    \n",
        "print(accuracy(tfidf_pred, data_set_te))\n",
        "print(multi_label_accuracy(tfidf_pred, data_set_te))\n"
      ],
      "execution_count": null,
      "outputs": []
    },
    {
      "cell_type": "code",
      "metadata": {
        "id": "EfGX0o1cQFgj",
        "colab": {
          "base_uri": "https://localhost:8080/"
        },
        "outputId": "f0a3b405-84a0-4d1e-b54a-c1b1ea05ac32"
      },
      "source": [
        "accuracy, precision, recall, f_score = multi_label_accuracy(tfidf_pred, data_set_te)\n",
        "print(mrr/test_embs.shape[0])"
      ],
      "execution_count": 106,
      "outputs": [
        {
          "output_type": "stream",
          "text": [
            "0.07032892347966381\n"
          ],
          "name": "stdout"
        }
      ]
    },
    {
      "cell_type": "code",
      "metadata": {
        "colab": {
          "base_uri": "https://localhost:8080/"
        },
        "id": "CCMbsn7qIXty",
        "outputId": "2c6a975c-9a22-4e57-af95-2f1e62b12f10"
      },
      "source": [
        "accuracy"
      ],
      "execution_count": 108,
      "outputs": [
        {
          "output_type": "execute_result",
          "data": {
            "text/plain": [
              "0.04819636291364404"
            ]
          },
          "metadata": {
            "tags": []
          },
          "execution_count": 108
        }
      ]
    },
    {
      "cell_type": "markdown",
      "metadata": {
        "id": "L_Yjfby_SxI9"
      },
      "source": [
        "### Evaluation"
      ]
    },
    {
      "cell_type": "code",
      "metadata": {
        "id": "DYtaqvw3HpkK"
      },
      "source": [
        "inv_voc = {}\n",
        "for m in labs:\n",
        "  inv_voc[labs[m]] = m\n",
        "inv_voc"
      ],
      "execution_count": null,
      "outputs": []
    },
    {
      "cell_type": "code",
      "metadata": {
        "id": "6Xj5inm4Ffhd"
      },
      "source": [
        "res = pd.DataFrame()\n",
        "res[\"Emoji\"] = MC_20\n",
        "res[\"precision\"] = np.round(precision,3)\n",
        "res[\"recall\"] = np.round(recall,3)\n",
        "res[\"f_score\"] = np.round(f_score,3)"
      ],
      "execution_count": 94,
      "outputs": []
    },
    {
      "cell_type": "code",
      "metadata": {
        "colab": {
          "base_uri": "https://localhost:8080/",
          "height": 662
        },
        "id": "ljM8v7O-Fg6i",
        "outputId": "2d96941e-71cf-4fa6-e835-a631a4c4b996"
      },
      "source": [
        "res"
      ],
      "execution_count": 96,
      "outputs": [
        {
          "output_type": "execute_result",
          "data": {
            "text/html": [
              "<div>\n",
              "<style scoped>\n",
              "    .dataframe tbody tr th:only-of-type {\n",
              "        vertical-align: middle;\n",
              "    }\n",
              "\n",
              "    .dataframe tbody tr th {\n",
              "        vertical-align: top;\n",
              "    }\n",
              "\n",
              "    .dataframe thead th {\n",
              "        text-align: right;\n",
              "    }\n",
              "</style>\n",
              "<table border=\"1\" class=\"dataframe\">\n",
              "  <thead>\n",
              "    <tr style=\"text-align: right;\">\n",
              "      <th></th>\n",
              "      <th>Emoji</th>\n",
              "      <th>precision</th>\n",
              "      <th>recall</th>\n",
              "      <th>f_score</th>\n",
              "    </tr>\n",
              "  </thead>\n",
              "  <tbody>\n",
              "    <tr>\n",
              "      <th>0</th>\n",
              "      <td>❤</td>\n",
              "      <td>0.984</td>\n",
              "      <td>0.832</td>\n",
              "      <td>0.901</td>\n",
              "    </tr>\n",
              "    <tr>\n",
              "      <th>1</th>\n",
              "      <td>😂</td>\n",
              "      <td>0.967</td>\n",
              "      <td>0.799</td>\n",
              "      <td>0.875</td>\n",
              "    </tr>\n",
              "    <tr>\n",
              "      <th>2</th>\n",
              "      <td>👍</td>\n",
              "      <td>0.978</td>\n",
              "      <td>0.845</td>\n",
              "      <td>0.907</td>\n",
              "    </tr>\n",
              "    <tr>\n",
              "      <th>3</th>\n",
              "      <td>🙏</td>\n",
              "      <td>0.964</td>\n",
              "      <td>0.815</td>\n",
              "      <td>0.883</td>\n",
              "    </tr>\n",
              "    <tr>\n",
              "      <th>4</th>\n",
              "      <td>🙌</td>\n",
              "      <td>0.867</td>\n",
              "      <td>0.841</td>\n",
              "      <td>0.854</td>\n",
              "    </tr>\n",
              "    <tr>\n",
              "      <th>5</th>\n",
              "      <td>😘</td>\n",
              "      <td>0.977</td>\n",
              "      <td>0.765</td>\n",
              "      <td>0.858</td>\n",
              "    </tr>\n",
              "    <tr>\n",
              "      <th>6</th>\n",
              "      <td>😍</td>\n",
              "      <td>0.977</td>\n",
              "      <td>0.886</td>\n",
              "      <td>0.929</td>\n",
              "    </tr>\n",
              "    <tr>\n",
              "      <th>7</th>\n",
              "      <td>😊</td>\n",
              "      <td>0.949</td>\n",
              "      <td>0.860</td>\n",
              "      <td>0.902</td>\n",
              "    </tr>\n",
              "    <tr>\n",
              "      <th>8</th>\n",
              "      <td>🔥</td>\n",
              "      <td>0.996</td>\n",
              "      <td>0.914</td>\n",
              "      <td>0.953</td>\n",
              "    </tr>\n",
              "    <tr>\n",
              "      <th>9</th>\n",
              "      <td>👏</td>\n",
              "      <td>0.957</td>\n",
              "      <td>0.895</td>\n",
              "      <td>0.925</td>\n",
              "    </tr>\n",
              "    <tr>\n",
              "      <th>10</th>\n",
              "      <td>👌</td>\n",
              "      <td>0.982</td>\n",
              "      <td>0.908</td>\n",
              "      <td>0.944</td>\n",
              "    </tr>\n",
              "    <tr>\n",
              "      <th>11</th>\n",
              "      <td>💪</td>\n",
              "      <td>0.996</td>\n",
              "      <td>0.910</td>\n",
              "      <td>0.951</td>\n",
              "    </tr>\n",
              "    <tr>\n",
              "      <th>12</th>\n",
              "      <td>👊</td>\n",
              "      <td>0.969</td>\n",
              "      <td>0.863</td>\n",
              "      <td>0.913</td>\n",
              "    </tr>\n",
              "    <tr>\n",
              "      <th>13</th>\n",
              "      <td>😉</td>\n",
              "      <td>0.996</td>\n",
              "      <td>0.923</td>\n",
              "      <td>0.958</td>\n",
              "    </tr>\n",
              "    <tr>\n",
              "      <th>14</th>\n",
              "      <td>🎉</td>\n",
              "      <td>0.981</td>\n",
              "      <td>0.930</td>\n",
              "      <td>0.955</td>\n",
              "    </tr>\n",
              "    <tr>\n",
              "      <th>15</th>\n",
              "      <td>😎</td>\n",
              "      <td>0.986</td>\n",
              "      <td>0.892</td>\n",
              "      <td>0.937</td>\n",
              "    </tr>\n",
              "    <tr>\n",
              "      <th>16</th>\n",
              "      <td>😁</td>\n",
              "      <td>0.982</td>\n",
              "      <td>0.886</td>\n",
              "      <td>0.932</td>\n",
              "    </tr>\n",
              "    <tr>\n",
              "      <th>17</th>\n",
              "      <td>💯</td>\n",
              "      <td>0.336</td>\n",
              "      <td>0.974</td>\n",
              "      <td>0.500</td>\n",
              "    </tr>\n",
              "    <tr>\n",
              "      <th>18</th>\n",
              "      <td>😜</td>\n",
              "      <td>0.988</td>\n",
              "      <td>0.952</td>\n",
              "      <td>0.970</td>\n",
              "    </tr>\n",
              "    <tr>\n",
              "      <th>19</th>\n",
              "      <td>👀</td>\n",
              "      <td>0.864</td>\n",
              "      <td>0.815</td>\n",
              "      <td>0.839</td>\n",
              "    </tr>\n",
              "  </tbody>\n",
              "</table>\n",
              "</div>"
            ],
            "text/plain": [
              "   Emoji  precision  recall  f_score\n",
              "0      ❤      0.984   0.832    0.901\n",
              "1      😂      0.967   0.799    0.875\n",
              "2      👍      0.978   0.845    0.907\n",
              "3      🙏      0.964   0.815    0.883\n",
              "4      🙌      0.867   0.841    0.854\n",
              "5      😘      0.977   0.765    0.858\n",
              "6      😍      0.977   0.886    0.929\n",
              "7      😊      0.949   0.860    0.902\n",
              "8      🔥      0.996   0.914    0.953\n",
              "9      👏      0.957   0.895    0.925\n",
              "10     👌      0.982   0.908    0.944\n",
              "11     💪      0.996   0.910    0.951\n",
              "12     👊      0.969   0.863    0.913\n",
              "13     😉      0.996   0.923    0.958\n",
              "14     🎉      0.981   0.930    0.955\n",
              "15     😎      0.986   0.892    0.937\n",
              "16     😁      0.982   0.886    0.932\n",
              "17     💯      0.336   0.974    0.500\n",
              "18     😜      0.988   0.952    0.970\n",
              "19     👀      0.864   0.815    0.839"
            ]
          },
          "metadata": {
            "tags": []
          },
          "execution_count": 96
        }
      ]
    },
    {
      "cell_type": "code",
      "metadata": {
        "id": "98cMsvjlFXO4",
        "colab": {
          "base_uri": "https://localhost:8080/",
          "height": 35
        },
        "outputId": "779914e6-b918-4d6b-84d5-aa6a97bd7087"
      },
      "source": [
        "test = [\"I feel bliss\"]\n",
        "test_e = vectorizer.transform(test)\n",
        "most_similar = cosine_similarity(test_e, embeddings, k=1)\n",
        "data_set_tr[most_similar[0]].lable"
      ],
      "execution_count": null,
      "outputs": [
        {
          "output_type": "execute_result",
          "data": {
            "application/vnd.google.colaboratory.intrinsic+json": {
              "type": "string"
            },
            "text/plain": [
              "'🙏'"
            ]
          },
          "metadata": {
            "tags": []
          },
          "execution_count": 169
        }
      ]
    },
    {
      "cell_type": "code",
      "metadata": {
        "colab": {
          "base_uri": "https://localhost:8080/",
          "height": 415
        },
        "id": "aOYyDB6dFmcR",
        "outputId": "9e2244a8-43d0-4d97-b1e0-2e2379df4b72"
      },
      "source": [
        "import json\n",
        "def make_uchr(code: str):\n",
        "  return chr(int(code.lstrip(\"U+\").zfill(8), 16))\n",
        "\n",
        "lines_def = []\n",
        "emojis = []\n",
        "def_path = \"/content/drive/My Drive/NLP/emojis.json\"\n",
        "\n",
        "\n",
        "with open(file = def_path) as f:\n",
        "  def_data = pd.DataFrame.from_dict(json.load(f))\n",
        "def_data = def_data.drop([\"category\",\"name\", \"senses\"], axis=1)\n",
        "def_data[\"shortcode\"] = def_data[\"shortcode\"].apply(str)\n",
        "def_data[\"unicode\"] = def_data[\"unicode\"].apply(str)\n",
        "def_data = def_data.loc[def_data[\"shortcode\"] != \"None\"]\n",
        "\n",
        "def_data[\"unicode\"].index\n",
        "for i,code in zip(def_data[\"unicode\"].index,def_data[\"unicode\"]):\n",
        "  if len(code.split()) == 1:\n",
        "    def_data[\"unicode\"][i] = make_uchr(code)\n",
        "#print(def_data[\"unicode\"].values)\n",
        "def_data"
      ],
      "execution_count": 60,
      "outputs": [
        {
          "output_type": "execute_result",
          "data": {
            "text/html": [
              "<div>\n",
              "<style scoped>\n",
              "    .dataframe tbody tr th:only-of-type {\n",
              "        vertical-align: middle;\n",
              "    }\n",
              "\n",
              "    .dataframe tbody tr th {\n",
              "        vertical-align: top;\n",
              "    }\n",
              "\n",
              "    .dataframe thead th {\n",
              "        text-align: right;\n",
              "    }\n",
              "</style>\n",
              "<table border=\"1\" class=\"dataframe\">\n",
              "  <thead>\n",
              "    <tr style=\"text-align: right;\">\n",
              "      <th></th>\n",
              "      <th>keywords</th>\n",
              "      <th>definition</th>\n",
              "      <th>unicode</th>\n",
              "      <th>shortcode</th>\n",
              "    </tr>\n",
              "  </thead>\n",
              "  <tbody>\n",
              "    <tr>\n",
              "      <th>5</th>\n",
              "      <td>[keycap]</td>\n",
              "      <td>Keycap Digit Zero was approved as part of Unic...</td>\n",
              "      <td>U+0030 U+FE0F U+20E3</td>\n",
              "      <td>:zero:</td>\n",
              "    </tr>\n",
              "    <tr>\n",
              "      <th>140</th>\n",
              "      <td>[m, circle]</td>\n",
              "      <td>The letter M in a circle, commonly used in to ...</td>\n",
              "      <td>Ⓜ</td>\n",
              "      <td>:m:</td>\n",
              "    </tr>\n",
              "    <tr>\n",
              "      <th>196</th>\n",
              "      <td>[japanese, ?, “acceptable”, ideograph]</td>\n",
              "      <td>Japanese “acceptable” Button was approved as p...</td>\n",
              "      <td>🉑</td>\n",
              "      <td>:accept:</td>\n",
              "    </tr>\n",
              "    <tr>\n",
              "      <th>197</th>\n",
              "      <td>[japanese, ?, “bargain”, ideograph]</td>\n",
              "      <td>Denotes a “good bargain” in Japanese. Japanese...</td>\n",
              "      <td>🉐</td>\n",
              "      <td>:ideograph_advantage:</td>\n",
              "    </tr>\n",
              "    <tr>\n",
              "      <th>201</th>\n",
              "      <td>[japanese, ?, “open for business”, ideograph]</td>\n",
              "      <td>Means “work” in Japanese.  This Emoji used to ...</td>\n",
              "      <td>🈺</td>\n",
              "      <td>:u55b6:</td>\n",
              "    </tr>\n",
              "    <tr>\n",
              "      <th>...</th>\n",
              "      <td>...</td>\n",
              "      <td>...</td>\n",
              "      <td>...</td>\n",
              "      <td>...</td>\n",
              "    </tr>\n",
              "    <tr>\n",
              "      <th>2383</th>\n",
              "      <td>[sun, mountain, sunrise, morning]</td>\n",
              "      <td>The sun rising over a mountain range, early in...</td>\n",
              "      <td>🌄</td>\n",
              "      <td>:sunrise_over_mountains:</td>\n",
              "    </tr>\n",
              "    <tr>\n",
              "      <th>2384</th>\n",
              "      <td>[night, star]</td>\n",
              "      <td>A night sky with stars, depicted on major plat...</td>\n",
              "      <td>🌃</td>\n",
              "      <td>:night_with_stars:</td>\n",
              "    </tr>\n",
              "    <tr>\n",
              "      <th>2385</th>\n",
              "      <td>[umbrella, rain, clothing]</td>\n",
              "      <td>An umbrella that is closed, likely as a result...</td>\n",
              "      <td>🌂</td>\n",
              "      <td>:closed_umbrella:</td>\n",
              "    </tr>\n",
              "    <tr>\n",
              "      <th>2386</th>\n",
              "      <td>[fog]</td>\n",
              "      <td>Foggy weather emoji. Shows fog covering a view...</td>\n",
              "      <td>🌁</td>\n",
              "      <td>:foggy:</td>\n",
              "    </tr>\n",
              "    <tr>\n",
              "      <th>2387</th>\n",
              "      <td>[typhoon, dizzy, twister]</td>\n",
              "      <td>An icon used to represent a cyclone. Some vers...</td>\n",
              "      <td>🌀</td>\n",
              "      <td>:cyclone:</td>\n",
              "    </tr>\n",
              "  </tbody>\n",
              "</table>\n",
              "<p>845 rows × 4 columns</p>\n",
              "</div>"
            ],
            "text/plain": [
              "                                           keywords  ...                 shortcode\n",
              "5                                          [keycap]  ...                    :zero:\n",
              "140                                     [m, circle]  ...                       :m:\n",
              "196          [japanese, ?, “acceptable”, ideograph]  ...                  :accept:\n",
              "197             [japanese, ?, “bargain”, ideograph]  ...     :ideograph_advantage:\n",
              "201   [japanese, ?, “open for business”, ideograph]  ...                   :u55b6:\n",
              "...                                             ...  ...                       ...\n",
              "2383              [sun, mountain, sunrise, morning]  ...  :sunrise_over_mountains:\n",
              "2384                                  [night, star]  ...        :night_with_stars:\n",
              "2385                     [umbrella, rain, clothing]  ...         :closed_umbrella:\n",
              "2386                                          [fog]  ...                   :foggy:\n",
              "2387                      [typhoon, dizzy, twister]  ...                 :cyclone:\n",
              "\n",
              "[845 rows x 4 columns]"
            ]
          },
          "metadata": {
            "tags": []
          },
          "execution_count": 60
        }
      ]
    },
    {
      "cell_type": "code",
      "metadata": {
        "id": "ZIWYrgwjFrlR"
      },
      "source": [
        "def_data.reset_index()\n",
        "MC_20 = ['❤','😂', '👍', '🙏', '🙌', '😘', '😍', '😊', '🔥', '👏', '👌', '💪', '👊', '😉', '🎉', '😎',\"😁\", \"💯\", \"😜\", \"👀\"]\n",
        "eval = pd.DataFrame([def_data.iloc[i,] for i in range(len(def_data[\"unicode\"])) if def_data.iloc[i,][\"unicode\"] in MC_20 ])"
      ],
      "execution_count": 61,
      "outputs": []
    },
    {
      "cell_type": "code",
      "metadata": {
        "id": "JXlYq1AuFywy"
      },
      "source": [
        "eval.columns = [\"key\", \"Line\", \"Emoji\", \"sc\"]\n",
        "eval = eval.reset_index()"
      ],
      "execution_count": 66,
      "outputs": []
    },
    {
      "cell_type": "code",
      "metadata": {
        "colab": {
          "base_uri": "https://localhost:8080/",
          "height": 139
        },
        "id": "0en7emulF5BZ",
        "outputId": "a45ddc98-dc2b-45b5-aec4-b07f13718b16"
      },
      "source": [
        "lines = []\n",
        "preds = []\n",
        "goldd = []\n",
        "for i in range(eval.shape[0]):\n",
        "  lines.append(eval[\"Line\"][i].split(\".\")[0])\n",
        "  test_e = vectorizer.transform([eval[\"Line\"][i].split(\".\")[0]])\n",
        "  goldd.append(eval[\"Emoji\"][i])\n",
        "  most_similar = cosine_similarity(test_e, embeddings, k=1)\n",
        "  preds.append(data_set_tr[most_similar[0]].lable)\n",
        "\n",
        "dff = pd.DataFrame()\n",
        "dff[\"Gold\"] = goldd\n",
        "dff[\"Tf-idf\"] = preds\n",
        "dff[\"Line\"] = lines\n",
        "dff.to_markdown()"
      ],
      "execution_count": 97,
      "outputs": [
        {
          "output_type": "execute_result",
          "data": {
            "application/vnd.google.colaboratory.intrinsic+json": {
              "type": "string"
            },
            "text/plain": [
              "'|    | Gold   | Tf-idf   | Line                                                                                        |\\n|---:|:-------|:---------|:--------------------------------------------------------------------------------------------|\\n|  0 | 🙏     | 👀       | Two hands placed firmly together, meaning please\\xa0or\\xa0thank you\\xa0in Japanese culture           |\\n|  1 | 🙌     | 👍       | Two hands raised in the air, celebrating success or another joyous event                    |\\n|  2 | 😜     | 🎉       | A face showing a stuck-out tongue, winking at the same time                                 |\\n|  3 | 😘     | 😘       | An emoji face blowing a\\xa0kiss;\\xa0but officially called “Face Throwing A Kiss”                  |\\n|  4 | 😎     | 👀       | A face smiling and wearing dark sunglasses that is\\xa0used to denote a sense of cool           |\\n|  5 | 😍     | 👀       | A face with hearts instead of eyes, or Heart Eyes Emoji as it is generally known            |\\n|  6 | 😊     | 😁       | A smiling face, with smiling eyes and rosy cheeks                                           |\\n|  7 | 😉     | 👌       | A classic winky emoji; winking and smiling                                                  |\\n|  8 | 😂     | 💯       | A laughing emoji\\xa0which at\\xa0small sizes is often mistaken for being tears of sadness          |\\n|  9 | 😁     | 😁       | A version of the\\xa0grinning face\\xa0showing smiling eyes                                         |\\n| 10 | ❤      | 👀       | A classic red love heart emoji, used to express love                                        |\\n| 11 | 🔥     | 👍       | A small flame, mostly yellow but red at the top                                             |\\n| 12 | 💯     | 💯       | 100 emoji: the number one-hundred, written in red, underlined twice for emphasis            |\\n| 13 | 💪     | 🔥       | An arm flexing to show its biceps muscle                                                    |\\n| 14 | 👏     | 👀       | Two hands clapping emoji, which when used multiple times can be used\\xa0as a round of applause |\\n| 15 | 👍     | 👏       | A\\xa0thumbs-up gesture indicating approval                                                     |\\n| 16 | 👌     | 👏       | Index finger touching thumb to make an open circle                                          |\\n| 17 | 👊     | 👊       | A fist displayed in a\\xa0position to punch someone, or to fist-bump another person             |\\n| 18 | 👀     | 👀       | A pair of eyes, glancing slightly to the left on most platforms                             |\\n| 19 | 🎉     | 😍       | A colorful party popper, used for\\xa0party or other celebration                                |'"
            ]
          },
          "metadata": {
            "tags": []
          },
          "execution_count": 97
        }
      ]
    },
    {
      "cell_type": "code",
      "metadata": {
        "colab": {
          "base_uri": "https://localhost:8080/",
          "height": 662
        },
        "id": "gK0KUFdFKu6i",
        "outputId": "44145b1c-df4a-4a60-df30-ea8a9d3cbbf5"
      },
      "source": [
        "dff"
      ],
      "execution_count": 98,
      "outputs": [
        {
          "output_type": "execute_result",
          "data": {
            "text/html": [
              "<div>\n",
              "<style scoped>\n",
              "    .dataframe tbody tr th:only-of-type {\n",
              "        vertical-align: middle;\n",
              "    }\n",
              "\n",
              "    .dataframe tbody tr th {\n",
              "        vertical-align: top;\n",
              "    }\n",
              "\n",
              "    .dataframe thead th {\n",
              "        text-align: right;\n",
              "    }\n",
              "</style>\n",
              "<table border=\"1\" class=\"dataframe\">\n",
              "  <thead>\n",
              "    <tr style=\"text-align: right;\">\n",
              "      <th></th>\n",
              "      <th>Gold</th>\n",
              "      <th>Tf-idf</th>\n",
              "      <th>Line</th>\n",
              "    </tr>\n",
              "  </thead>\n",
              "  <tbody>\n",
              "    <tr>\n",
              "      <th>0</th>\n",
              "      <td>🙏</td>\n",
              "      <td>👀</td>\n",
              "      <td>Two hands placed firmly together, meaning plea...</td>\n",
              "    </tr>\n",
              "    <tr>\n",
              "      <th>1</th>\n",
              "      <td>🙌</td>\n",
              "      <td>👍</td>\n",
              "      <td>Two hands raised in the air, celebrating succe...</td>\n",
              "    </tr>\n",
              "    <tr>\n",
              "      <th>2</th>\n",
              "      <td>😜</td>\n",
              "      <td>🎉</td>\n",
              "      <td>A face showing a stuck-out tongue, winking at ...</td>\n",
              "    </tr>\n",
              "    <tr>\n",
              "      <th>3</th>\n",
              "      <td>😘</td>\n",
              "      <td>😘</td>\n",
              "      <td>An emoji face blowing a kiss; but officially c...</td>\n",
              "    </tr>\n",
              "    <tr>\n",
              "      <th>4</th>\n",
              "      <td>😎</td>\n",
              "      <td>👀</td>\n",
              "      <td>A face smiling and wearing dark sunglasses tha...</td>\n",
              "    </tr>\n",
              "    <tr>\n",
              "      <th>5</th>\n",
              "      <td>😍</td>\n",
              "      <td>👀</td>\n",
              "      <td>A face with hearts instead of eyes, or Heart E...</td>\n",
              "    </tr>\n",
              "    <tr>\n",
              "      <th>6</th>\n",
              "      <td>😊</td>\n",
              "      <td>😁</td>\n",
              "      <td>A smiling face, with smiling eyes and rosy cheeks</td>\n",
              "    </tr>\n",
              "    <tr>\n",
              "      <th>7</th>\n",
              "      <td>😉</td>\n",
              "      <td>👌</td>\n",
              "      <td>A classic winky emoji; winking and smiling</td>\n",
              "    </tr>\n",
              "    <tr>\n",
              "      <th>8</th>\n",
              "      <td>😂</td>\n",
              "      <td>💯</td>\n",
              "      <td>A laughing emoji which at small sizes is often...</td>\n",
              "    </tr>\n",
              "    <tr>\n",
              "      <th>9</th>\n",
              "      <td>😁</td>\n",
              "      <td>😁</td>\n",
              "      <td>A version of the grinning face showing smiling...</td>\n",
              "    </tr>\n",
              "    <tr>\n",
              "      <th>10</th>\n",
              "      <td>❤</td>\n",
              "      <td>👀</td>\n",
              "      <td>A classic red love heart emoji, used to expres...</td>\n",
              "    </tr>\n",
              "    <tr>\n",
              "      <th>11</th>\n",
              "      <td>🔥</td>\n",
              "      <td>👍</td>\n",
              "      <td>A small flame, mostly yellow but red at the top</td>\n",
              "    </tr>\n",
              "    <tr>\n",
              "      <th>12</th>\n",
              "      <td>💯</td>\n",
              "      <td>💯</td>\n",
              "      <td>100 emoji: the number one-hundred, written in ...</td>\n",
              "    </tr>\n",
              "    <tr>\n",
              "      <th>13</th>\n",
              "      <td>💪</td>\n",
              "      <td>🔥</td>\n",
              "      <td>An arm flexing to show its biceps muscle</td>\n",
              "    </tr>\n",
              "    <tr>\n",
              "      <th>14</th>\n",
              "      <td>👏</td>\n",
              "      <td>👀</td>\n",
              "      <td>Two hands clapping emoji, which when used mult...</td>\n",
              "    </tr>\n",
              "    <tr>\n",
              "      <th>15</th>\n",
              "      <td>👍</td>\n",
              "      <td>👏</td>\n",
              "      <td>A thumbs-up gesture indicating approval</td>\n",
              "    </tr>\n",
              "    <tr>\n",
              "      <th>16</th>\n",
              "      <td>👌</td>\n",
              "      <td>👏</td>\n",
              "      <td>Index finger touching thumb to make an open ci...</td>\n",
              "    </tr>\n",
              "    <tr>\n",
              "      <th>17</th>\n",
              "      <td>👊</td>\n",
              "      <td>👊</td>\n",
              "      <td>A fist displayed in a position to punch someon...</td>\n",
              "    </tr>\n",
              "    <tr>\n",
              "      <th>18</th>\n",
              "      <td>👀</td>\n",
              "      <td>👀</td>\n",
              "      <td>A pair of eyes, glancing slightly to the left ...</td>\n",
              "    </tr>\n",
              "    <tr>\n",
              "      <th>19</th>\n",
              "      <td>🎉</td>\n",
              "      <td>😍</td>\n",
              "      <td>A colorful party popper, used for party or oth...</td>\n",
              "    </tr>\n",
              "  </tbody>\n",
              "</table>\n",
              "</div>"
            ],
            "text/plain": [
              "   Gold Tf-idf                                               Line\n",
              "0     🙏      👀  Two hands placed firmly together, meaning plea...\n",
              "1     🙌      👍  Two hands raised in the air, celebrating succe...\n",
              "2     😜      🎉  A face showing a stuck-out tongue, winking at ...\n",
              "3     😘      😘  An emoji face blowing a kiss; but officially c...\n",
              "4     😎      👀  A face smiling and wearing dark sunglasses tha...\n",
              "5     😍      👀  A face with hearts instead of eyes, or Heart E...\n",
              "6     😊      😁  A smiling face, with smiling eyes and rosy cheeks\n",
              "7     😉      👌         A classic winky emoji; winking and smiling\n",
              "8     😂      💯  A laughing emoji which at small sizes is often...\n",
              "9     😁      😁  A version of the grinning face showing smiling...\n",
              "10    ❤      👀  A classic red love heart emoji, used to expres...\n",
              "11    🔥      👍    A small flame, mostly yellow but red at the top\n",
              "12    💯      💯  100 emoji: the number one-hundred, written in ...\n",
              "13    💪      🔥           An arm flexing to show its biceps muscle\n",
              "14    👏      👀  Two hands clapping emoji, which when used mult...\n",
              "15    👍      👏            A thumbs-up gesture indicating approval\n",
              "16    👌      👏  Index finger touching thumb to make an open ci...\n",
              "17    👊      👊  A fist displayed in a position to punch someon...\n",
              "18    👀      👀  A pair of eyes, glancing slightly to the left ...\n",
              "19    🎉      😍  A colorful party popper, used for party or oth..."
            ]
          },
          "metadata": {
            "tags": []
          },
          "execution_count": 98
        }
      ]
    }
  ]
}